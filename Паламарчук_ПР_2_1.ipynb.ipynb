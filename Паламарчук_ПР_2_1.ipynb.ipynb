{
 "cells": [
  {
   "cell_type": "code",
   "execution_count": 2,
   "outputs": [],
   "source": [
    "import pandas as pd"
   ],
   "metadata": {
    "collapsed": false
   }
  },
  {
   "cell_type": "code",
   "execution_count": 3,
   "metadata": {
    "collapsed": true
   },
   "outputs": [
    {
     "data": {
      "text/plain": "     rank                    Youtuber  subscribers   video views  \\\n0       1                    T-Series    245000000  2.280000e+11   \n1       2              YouTube Movies    170000000  0.000000e+00   \n2       3                     MrBeast    166000000  2.836884e+10   \n3       4  Cocomelon - Nursery Rhymes    162000000  1.640000e+11   \n4       5                   SET India    159000000  1.480000e+11   \n..    ...                         ...          ...           ...   \n990   991               Natan por Aï¿     12300000  9.029610e+09   \n991   992    Free Fire India Official     12300000  1.674410e+09   \n992   993                       Panda     12300000  2.214684e+09   \n993   994                 RobTopGames     12300000  3.741235e+08   \n994   995                Make Joke Of     12300000  2.129774e+09   \n\n             category                       Title  uploads         Country  \\\n0               Music                    T-Series    20082           India   \n1    Film & Animation               youtubemovies        1   United States   \n2       Entertainment                     MrBeast      741   United States   \n3           Education  Cocomelon - Nursery Rhymes      966   United States   \n4               Shows                   SET India   116536           India   \n..                ...                         ...      ...             ...   \n990            Sports               Natan por Aï¿     1200          Brazil   \n991    People & Blogs    Free Fire India Official     1500           India   \n992               NaN                 HybridPanda     2452  United Kingdom   \n993            Gaming                 RobTopGames       39          Sweden   \n994            Comedy                Make Joke Of       62           India   \n\n    Abbreviation   channel_type  ...  subscribers_for_last_30_days  \\\n0             IN          Music  ...                     2000000.0   \n1             US          Games  ...                           NaN   \n2             US  Entertainment  ...                     8000000.0   \n3             US      Education  ...                     1000000.0   \n4             IN  Entertainment  ...                     1000000.0   \n..           ...            ...  ...                           ...   \n990           BR  Entertainment  ...                      700000.0   \n991           IN          Games  ...                      300000.0   \n992           GB          Games  ...                        1000.0   \n993           SE          Games  ...                      100000.0   \n994           IN         Comedy  ...                      100000.0   \n\n     created_year  created_month  created_date  \\\n0          2006.0            Mar          13.0   \n1          2006.0            Mar           5.0   \n2          2012.0            Feb          20.0   \n3          2006.0            Sep           1.0   \n4          2006.0            Sep          20.0   \n..            ...            ...           ...   \n990        2017.0            Feb          12.0   \n991        2018.0            Sep          14.0   \n992        2006.0            Sep          11.0   \n993        2012.0            May           9.0   \n994        2017.0            Aug           1.0   \n\n     Gross tertiary education enrollment (%)    Population  Unemployment rate  \\\n0                                       28.1  1.366418e+09               5.36   \n1                                       88.2  3.282395e+08              14.70   \n2                                       88.2  3.282395e+08              14.70   \n3                                       88.2  3.282395e+08              14.70   \n4                                       28.1  1.366418e+09               5.36   \n..                                       ...           ...                ...   \n990                                     51.3  2.125594e+08              12.08   \n991                                     28.1  1.366418e+09               5.36   \n992                                     60.0  6.683440e+07               3.85   \n993                                     67.0  1.028545e+07               6.48   \n994                                     28.1  1.366418e+09               5.36   \n\n     Urban_population   Latitude  Longitude  \n0         471031528.0  20.593684  78.962880  \n1         270663028.0  37.090240 -95.712891  \n2         270663028.0  37.090240 -95.712891  \n3         270663028.0  37.090240 -95.712891  \n4         471031528.0  20.593684  78.962880  \n..                ...        ...        ...  \n990       183241641.0 -14.235004 -51.925280  \n991       471031528.0  20.593684  78.962880  \n992        55908316.0  55.378051  -3.435973  \n993         9021165.0  60.128161  18.643501  \n994       471031528.0  20.593684  78.962880  \n\n[995 rows x 28 columns]",
      "text/html": "<div>\n<style scoped>\n    .dataframe tbody tr th:only-of-type {\n        vertical-align: middle;\n    }\n\n    .dataframe tbody tr th {\n        vertical-align: top;\n    }\n\n    .dataframe thead th {\n        text-align: right;\n    }\n</style>\n<table border=\"1\" class=\"dataframe\">\n  <thead>\n    <tr style=\"text-align: right;\">\n      <th></th>\n      <th>rank</th>\n      <th>Youtuber</th>\n      <th>subscribers</th>\n      <th>video views</th>\n      <th>category</th>\n      <th>Title</th>\n      <th>uploads</th>\n      <th>Country</th>\n      <th>Abbreviation</th>\n      <th>channel_type</th>\n      <th>...</th>\n      <th>subscribers_for_last_30_days</th>\n      <th>created_year</th>\n      <th>created_month</th>\n      <th>created_date</th>\n      <th>Gross tertiary education enrollment (%)</th>\n      <th>Population</th>\n      <th>Unemployment rate</th>\n      <th>Urban_population</th>\n      <th>Latitude</th>\n      <th>Longitude</th>\n    </tr>\n  </thead>\n  <tbody>\n    <tr>\n      <th>0</th>\n      <td>1</td>\n      <td>T-Series</td>\n      <td>245000000</td>\n      <td>2.280000e+11</td>\n      <td>Music</td>\n      <td>T-Series</td>\n      <td>20082</td>\n      <td>India</td>\n      <td>IN</td>\n      <td>Music</td>\n      <td>...</td>\n      <td>2000000.0</td>\n      <td>2006.0</td>\n      <td>Mar</td>\n      <td>13.0</td>\n      <td>28.1</td>\n      <td>1.366418e+09</td>\n      <td>5.36</td>\n      <td>471031528.0</td>\n      <td>20.593684</td>\n      <td>78.962880</td>\n    </tr>\n    <tr>\n      <th>1</th>\n      <td>2</td>\n      <td>YouTube Movies</td>\n      <td>170000000</td>\n      <td>0.000000e+00</td>\n      <td>Film &amp; Animation</td>\n      <td>youtubemovies</td>\n      <td>1</td>\n      <td>United States</td>\n      <td>US</td>\n      <td>Games</td>\n      <td>...</td>\n      <td>NaN</td>\n      <td>2006.0</td>\n      <td>Mar</td>\n      <td>5.0</td>\n      <td>88.2</td>\n      <td>3.282395e+08</td>\n      <td>14.70</td>\n      <td>270663028.0</td>\n      <td>37.090240</td>\n      <td>-95.712891</td>\n    </tr>\n    <tr>\n      <th>2</th>\n      <td>3</td>\n      <td>MrBeast</td>\n      <td>166000000</td>\n      <td>2.836884e+10</td>\n      <td>Entertainment</td>\n      <td>MrBeast</td>\n      <td>741</td>\n      <td>United States</td>\n      <td>US</td>\n      <td>Entertainment</td>\n      <td>...</td>\n      <td>8000000.0</td>\n      <td>2012.0</td>\n      <td>Feb</td>\n      <td>20.0</td>\n      <td>88.2</td>\n      <td>3.282395e+08</td>\n      <td>14.70</td>\n      <td>270663028.0</td>\n      <td>37.090240</td>\n      <td>-95.712891</td>\n    </tr>\n    <tr>\n      <th>3</th>\n      <td>4</td>\n      <td>Cocomelon - Nursery Rhymes</td>\n      <td>162000000</td>\n      <td>1.640000e+11</td>\n      <td>Education</td>\n      <td>Cocomelon - Nursery Rhymes</td>\n      <td>966</td>\n      <td>United States</td>\n      <td>US</td>\n      <td>Education</td>\n      <td>...</td>\n      <td>1000000.0</td>\n      <td>2006.0</td>\n      <td>Sep</td>\n      <td>1.0</td>\n      <td>88.2</td>\n      <td>3.282395e+08</td>\n      <td>14.70</td>\n      <td>270663028.0</td>\n      <td>37.090240</td>\n      <td>-95.712891</td>\n    </tr>\n    <tr>\n      <th>4</th>\n      <td>5</td>\n      <td>SET India</td>\n      <td>159000000</td>\n      <td>1.480000e+11</td>\n      <td>Shows</td>\n      <td>SET India</td>\n      <td>116536</td>\n      <td>India</td>\n      <td>IN</td>\n      <td>Entertainment</td>\n      <td>...</td>\n      <td>1000000.0</td>\n      <td>2006.0</td>\n      <td>Sep</td>\n      <td>20.0</td>\n      <td>28.1</td>\n      <td>1.366418e+09</td>\n      <td>5.36</td>\n      <td>471031528.0</td>\n      <td>20.593684</td>\n      <td>78.962880</td>\n    </tr>\n    <tr>\n      <th>...</th>\n      <td>...</td>\n      <td>...</td>\n      <td>...</td>\n      <td>...</td>\n      <td>...</td>\n      <td>...</td>\n      <td>...</td>\n      <td>...</td>\n      <td>...</td>\n      <td>...</td>\n      <td>...</td>\n      <td>...</td>\n      <td>...</td>\n      <td>...</td>\n      <td>...</td>\n      <td>...</td>\n      <td>...</td>\n      <td>...</td>\n      <td>...</td>\n      <td>...</td>\n      <td>...</td>\n    </tr>\n    <tr>\n      <th>990</th>\n      <td>991</td>\n      <td>Natan por Aï¿</td>\n      <td>12300000</td>\n      <td>9.029610e+09</td>\n      <td>Sports</td>\n      <td>Natan por Aï¿</td>\n      <td>1200</td>\n      <td>Brazil</td>\n      <td>BR</td>\n      <td>Entertainment</td>\n      <td>...</td>\n      <td>700000.0</td>\n      <td>2017.0</td>\n      <td>Feb</td>\n      <td>12.0</td>\n      <td>51.3</td>\n      <td>2.125594e+08</td>\n      <td>12.08</td>\n      <td>183241641.0</td>\n      <td>-14.235004</td>\n      <td>-51.925280</td>\n    </tr>\n    <tr>\n      <th>991</th>\n      <td>992</td>\n      <td>Free Fire India Official</td>\n      <td>12300000</td>\n      <td>1.674410e+09</td>\n      <td>People &amp; Blogs</td>\n      <td>Free Fire India Official</td>\n      <td>1500</td>\n      <td>India</td>\n      <td>IN</td>\n      <td>Games</td>\n      <td>...</td>\n      <td>300000.0</td>\n      <td>2018.0</td>\n      <td>Sep</td>\n      <td>14.0</td>\n      <td>28.1</td>\n      <td>1.366418e+09</td>\n      <td>5.36</td>\n      <td>471031528.0</td>\n      <td>20.593684</td>\n      <td>78.962880</td>\n    </tr>\n    <tr>\n      <th>992</th>\n      <td>993</td>\n      <td>Panda</td>\n      <td>12300000</td>\n      <td>2.214684e+09</td>\n      <td>NaN</td>\n      <td>HybridPanda</td>\n      <td>2452</td>\n      <td>United Kingdom</td>\n      <td>GB</td>\n      <td>Games</td>\n      <td>...</td>\n      <td>1000.0</td>\n      <td>2006.0</td>\n      <td>Sep</td>\n      <td>11.0</td>\n      <td>60.0</td>\n      <td>6.683440e+07</td>\n      <td>3.85</td>\n      <td>55908316.0</td>\n      <td>55.378051</td>\n      <td>-3.435973</td>\n    </tr>\n    <tr>\n      <th>993</th>\n      <td>994</td>\n      <td>RobTopGames</td>\n      <td>12300000</td>\n      <td>3.741235e+08</td>\n      <td>Gaming</td>\n      <td>RobTopGames</td>\n      <td>39</td>\n      <td>Sweden</td>\n      <td>SE</td>\n      <td>Games</td>\n      <td>...</td>\n      <td>100000.0</td>\n      <td>2012.0</td>\n      <td>May</td>\n      <td>9.0</td>\n      <td>67.0</td>\n      <td>1.028545e+07</td>\n      <td>6.48</td>\n      <td>9021165.0</td>\n      <td>60.128161</td>\n      <td>18.643501</td>\n    </tr>\n    <tr>\n      <th>994</th>\n      <td>995</td>\n      <td>Make Joke Of</td>\n      <td>12300000</td>\n      <td>2.129774e+09</td>\n      <td>Comedy</td>\n      <td>Make Joke Of</td>\n      <td>62</td>\n      <td>India</td>\n      <td>IN</td>\n      <td>Comedy</td>\n      <td>...</td>\n      <td>100000.0</td>\n      <td>2017.0</td>\n      <td>Aug</td>\n      <td>1.0</td>\n      <td>28.1</td>\n      <td>1.366418e+09</td>\n      <td>5.36</td>\n      <td>471031528.0</td>\n      <td>20.593684</td>\n      <td>78.962880</td>\n    </tr>\n  </tbody>\n</table>\n<p>995 rows × 28 columns</p>\n</div>"
     },
     "execution_count": 3,
     "metadata": {},
     "output_type": "execute_result"
    }
   ],
   "source": [
    "# 1. Прочитайте CSV файл (використовуйте метод read_csv):\n",
    "data = pd.read_csv(\"Global_YouTube_Statistics.csv\", encoding='latin-1')\n",
    "data"
   ]
  },
  {
   "cell_type": "code",
   "execution_count": 31,
   "outputs": [
    {
     "data": {
      "text/plain": "   rank                    Youtuber  subscribers   video views  \\\n0     1                    T-Series    245000000  2.280000e+11   \n1     2              YouTube Movies    170000000  0.000000e+00   \n2     3                     MrBeast    166000000  2.836884e+10   \n3     4  Cocomelon - Nursery Rhymes    162000000  1.640000e+11   \n4     5                   SET India    159000000  1.480000e+11   \n\n           category                       Title  uploads        Country  \\\n0             Music                    T-Series    20082          India   \n1  Film & Animation               youtubemovies        1  United States   \n2     Entertainment                     MrBeast      741  United States   \n3         Education  Cocomelon - Nursery Rhymes      966  United States   \n4             Shows                   SET India   116536          India   \n\n  Abbreviation   channel_type  ...  subscribers_for_last_30_days  \\\n0           IN          Music  ...                     2000000.0   \n1           US          Games  ...                           NaN   \n2           US  Entertainment  ...                     8000000.0   \n3           US      Education  ...                     1000000.0   \n4           IN  Entertainment  ...                     1000000.0   \n\n   created_year  created_month  created_date  \\\n0        2006.0            Mar          13.0   \n1        2006.0            Mar           5.0   \n2        2012.0            Feb          20.0   \n3        2006.0            Sep           1.0   \n4        2006.0            Sep          20.0   \n\n   Gross tertiary education enrollment (%)    Population  Unemployment rate  \\\n0                                     28.1  1.366418e+09               5.36   \n1                                     88.2  3.282395e+08              14.70   \n2                                     88.2  3.282395e+08              14.70   \n3                                     88.2  3.282395e+08              14.70   \n4                                     28.1  1.366418e+09               5.36   \n\n   Urban_population   Latitude  Longitude  \n0       471031528.0  20.593684  78.962880  \n1       270663028.0  37.090240 -95.712891  \n2       270663028.0  37.090240 -95.712891  \n3       270663028.0  37.090240 -95.712891  \n4       471031528.0  20.593684  78.962880  \n\n[5 rows x 28 columns]",
      "text/html": "<div>\n<style scoped>\n    .dataframe tbody tr th:only-of-type {\n        vertical-align: middle;\n    }\n\n    .dataframe tbody tr th {\n        vertical-align: top;\n    }\n\n    .dataframe thead th {\n        text-align: right;\n    }\n</style>\n<table border=\"1\" class=\"dataframe\">\n  <thead>\n    <tr style=\"text-align: right;\">\n      <th></th>\n      <th>rank</th>\n      <th>Youtuber</th>\n      <th>subscribers</th>\n      <th>video views</th>\n      <th>category</th>\n      <th>Title</th>\n      <th>uploads</th>\n      <th>Country</th>\n      <th>Abbreviation</th>\n      <th>channel_type</th>\n      <th>...</th>\n      <th>subscribers_for_last_30_days</th>\n      <th>created_year</th>\n      <th>created_month</th>\n      <th>created_date</th>\n      <th>Gross tertiary education enrollment (%)</th>\n      <th>Population</th>\n      <th>Unemployment rate</th>\n      <th>Urban_population</th>\n      <th>Latitude</th>\n      <th>Longitude</th>\n    </tr>\n  </thead>\n  <tbody>\n    <tr>\n      <th>0</th>\n      <td>1</td>\n      <td>T-Series</td>\n      <td>245000000</td>\n      <td>2.280000e+11</td>\n      <td>Music</td>\n      <td>T-Series</td>\n      <td>20082</td>\n      <td>India</td>\n      <td>IN</td>\n      <td>Music</td>\n      <td>...</td>\n      <td>2000000.0</td>\n      <td>2006.0</td>\n      <td>Mar</td>\n      <td>13.0</td>\n      <td>28.1</td>\n      <td>1.366418e+09</td>\n      <td>5.36</td>\n      <td>471031528.0</td>\n      <td>20.593684</td>\n      <td>78.962880</td>\n    </tr>\n    <tr>\n      <th>1</th>\n      <td>2</td>\n      <td>YouTube Movies</td>\n      <td>170000000</td>\n      <td>0.000000e+00</td>\n      <td>Film &amp; Animation</td>\n      <td>youtubemovies</td>\n      <td>1</td>\n      <td>United States</td>\n      <td>US</td>\n      <td>Games</td>\n      <td>...</td>\n      <td>NaN</td>\n      <td>2006.0</td>\n      <td>Mar</td>\n      <td>5.0</td>\n      <td>88.2</td>\n      <td>3.282395e+08</td>\n      <td>14.70</td>\n      <td>270663028.0</td>\n      <td>37.090240</td>\n      <td>-95.712891</td>\n    </tr>\n    <tr>\n      <th>2</th>\n      <td>3</td>\n      <td>MrBeast</td>\n      <td>166000000</td>\n      <td>2.836884e+10</td>\n      <td>Entertainment</td>\n      <td>MrBeast</td>\n      <td>741</td>\n      <td>United States</td>\n      <td>US</td>\n      <td>Entertainment</td>\n      <td>...</td>\n      <td>8000000.0</td>\n      <td>2012.0</td>\n      <td>Feb</td>\n      <td>20.0</td>\n      <td>88.2</td>\n      <td>3.282395e+08</td>\n      <td>14.70</td>\n      <td>270663028.0</td>\n      <td>37.090240</td>\n      <td>-95.712891</td>\n    </tr>\n    <tr>\n      <th>3</th>\n      <td>4</td>\n      <td>Cocomelon - Nursery Rhymes</td>\n      <td>162000000</td>\n      <td>1.640000e+11</td>\n      <td>Education</td>\n      <td>Cocomelon - Nursery Rhymes</td>\n      <td>966</td>\n      <td>United States</td>\n      <td>US</td>\n      <td>Education</td>\n      <td>...</td>\n      <td>1000000.0</td>\n      <td>2006.0</td>\n      <td>Sep</td>\n      <td>1.0</td>\n      <td>88.2</td>\n      <td>3.282395e+08</td>\n      <td>14.70</td>\n      <td>270663028.0</td>\n      <td>37.090240</td>\n      <td>-95.712891</td>\n    </tr>\n    <tr>\n      <th>4</th>\n      <td>5</td>\n      <td>SET India</td>\n      <td>159000000</td>\n      <td>1.480000e+11</td>\n      <td>Shows</td>\n      <td>SET India</td>\n      <td>116536</td>\n      <td>India</td>\n      <td>IN</td>\n      <td>Entertainment</td>\n      <td>...</td>\n      <td>1000000.0</td>\n      <td>2006.0</td>\n      <td>Sep</td>\n      <td>20.0</td>\n      <td>28.1</td>\n      <td>1.366418e+09</td>\n      <td>5.36</td>\n      <td>471031528.0</td>\n      <td>20.593684</td>\n      <td>78.962880</td>\n    </tr>\n  </tbody>\n</table>\n<p>5 rows × 28 columns</p>\n</div>"
     },
     "execution_count": 31,
     "metadata": {},
     "output_type": "execute_result"
    }
   ],
   "source": [
    "# 2. Виведіть перші п'ять рядків (використовується метод head):\n",
    "data.head()"
   ],
   "metadata": {
    "collapsed": false
   }
  },
  {
   "cell_type": "code",
   "execution_count": 32,
   "outputs": [
    {
     "data": {
      "text/plain": "(995, 28)"
     },
     "execution_count": 32,
     "metadata": {},
     "output_type": "execute_result"
    }
   ],
   "source": [
    "# 3. Виведіть розміри датасету (використовуйте метод shape):\n",
    "data.shape"
   ],
   "metadata": {
    "collapsed": false
   }
  },
  {
   "cell_type": "code",
   "execution_count": 33,
   "outputs": [
    {
     "data": {
      "text/plain": "rank                                         0\nYoutuber                                     0\nsubscribers                                  0\nvideo views                                  0\ncategory                                    46\nTitle                                        0\nuploads                                      0\nCountry                                    122\nAbbreviation                               122\nchannel_type                                30\nvideo_views_rank                             1\ncountry_rank                               116\nchannel_type_rank                           33\nvideo_views_for_the_last_30_days            56\nlowest_monthly_earnings                      0\nhighest_monthly_earnings                     0\nlowest_yearly_earnings                       0\nhighest_yearly_earnings                      0\nsubscribers_for_last_30_days               337\ncreated_year                                 5\ncreated_month                                5\ncreated_date                                 5\nGross tertiary education enrollment (%)    123\nPopulation                                 123\nUnemployment rate                          123\nUrban_population                           123\nLatitude                                   123\nLongitude                                  123\ndtype: int64"
     },
     "execution_count": 33,
     "metadata": {},
     "output_type": "execute_result"
    }
   ],
   "source": [
    "# 4. Перевірте, чи у всіх рядків вистачає даних: виведіть кількість пропусків у кожному зі стовпців (використовуйте методи isna та sum).\n",
    "# Якщо є пропуски, замінить їх на NaN, потім тип даних на числовий.\n",
    "data.isna().sum()\n"
   ],
   "metadata": {
    "collapsed": false
   }
  },
  {
   "cell_type": "code",
   "execution_count": 34,
   "outputs": [
    {
     "data": {
      "text/plain": "     rank                    Youtuber  subscribers   video views  \\\n0       1                    T-Series    245000000  2.280000e+11   \n1       2              YouTube Movies    170000000  0.000000e+00   \n2       3                     MrBeast    166000000  2.836884e+10   \n3       4  Cocomelon - Nursery Rhymes    162000000  1.640000e+11   \n4       5                   SET India    159000000  1.480000e+11   \n..    ...                         ...          ...           ...   \n990   991               Natan por Aï¿     12300000  9.029610e+09   \n991   992    Free Fire India Official     12300000  1.674410e+09   \n992   993                       Panda     12300000  2.214684e+09   \n993   994                 RobTopGames     12300000  3.741235e+08   \n994   995                Make Joke Of     12300000  2.129774e+09   \n\n             category                       Title  uploads         Country  \\\n0               Music                    T-Series    20082           India   \n1    Film & Animation               youtubemovies        1   United States   \n2       Entertainment                     MrBeast      741   United States   \n3           Education  Cocomelon - Nursery Rhymes      966   United States   \n4               Shows                   SET India   116536           India   \n..                ...                         ...      ...             ...   \n990            Sports               Natan por Aï¿     1200          Brazil   \n991    People & Blogs    Free Fire India Official     1500           India   \n992               NaN                 HybridPanda     2452  United Kingdom   \n993            Gaming                 RobTopGames       39          Sweden   \n994            Comedy                Make Joke Of       62           India   \n\n    Abbreviation   channel_type  ...  subscribers_for_last_30_days  \\\n0             IN          Music  ...                  2.000000e+06   \n1             US          Games  ...                  3.490791e+05   \n2             US  Entertainment  ...                  8.000000e+06   \n3             US      Education  ...                  1.000000e+06   \n4             IN  Entertainment  ...                  1.000000e+06   \n..           ...            ...  ...                           ...   \n990           BR  Entertainment  ...                  7.000000e+05   \n991           IN          Games  ...                  3.000000e+05   \n992           GB          Games  ...                  1.000000e+03   \n993           SE          Games  ...                  1.000000e+05   \n994           IN         Comedy  ...                  1.000000e+05   \n\n     created_year  created_month  created_date  \\\n0          2006.0            Mar          13.0   \n1          2006.0            Mar           5.0   \n2          2012.0            Feb          20.0   \n3          2006.0            Sep           1.0   \n4          2006.0            Sep          20.0   \n..            ...            ...           ...   \n990        2017.0            Feb          12.0   \n991        2018.0            Sep          14.0   \n992        2006.0            Sep          11.0   \n993        2012.0            May           9.0   \n994        2017.0            Aug           1.0   \n\n     Gross tertiary education enrollment (%)    Population  Unemployment rate  \\\n0                                       28.1  1.366418e+09               5.36   \n1                                       88.2  3.282395e+08              14.70   \n2                                       88.2  3.282395e+08              14.70   \n3                                       88.2  3.282395e+08              14.70   \n4                                       28.1  1.366418e+09               5.36   \n..                                       ...           ...                ...   \n990                                     51.3  2.125594e+08              12.08   \n991                                     28.1  1.366418e+09               5.36   \n992                                     60.0  6.683440e+07               3.85   \n993                                     67.0  1.028545e+07               6.48   \n994                                     28.1  1.366418e+09               5.36   \n\n     Urban_population   Latitude  Longitude  \n0         471031528.0  20.593684  78.962880  \n1         270663028.0  37.090240 -95.712891  \n2         270663028.0  37.090240 -95.712891  \n3         270663028.0  37.090240 -95.712891  \n4         471031528.0  20.593684  78.962880  \n..                ...        ...        ...  \n990       183241641.0 -14.235004 -51.925280  \n991       471031528.0  20.593684  78.962880  \n992        55908316.0  55.378051  -3.435973  \n993         9021165.0  60.128161  18.643501  \n994       471031528.0  20.593684  78.962880  \n\n[995 rows x 28 columns]",
      "text/html": "<div>\n<style scoped>\n    .dataframe tbody tr th:only-of-type {\n        vertical-align: middle;\n    }\n\n    .dataframe tbody tr th {\n        vertical-align: top;\n    }\n\n    .dataframe thead th {\n        text-align: right;\n    }\n</style>\n<table border=\"1\" class=\"dataframe\">\n  <thead>\n    <tr style=\"text-align: right;\">\n      <th></th>\n      <th>rank</th>\n      <th>Youtuber</th>\n      <th>subscribers</th>\n      <th>video views</th>\n      <th>category</th>\n      <th>Title</th>\n      <th>uploads</th>\n      <th>Country</th>\n      <th>Abbreviation</th>\n      <th>channel_type</th>\n      <th>...</th>\n      <th>subscribers_for_last_30_days</th>\n      <th>created_year</th>\n      <th>created_month</th>\n      <th>created_date</th>\n      <th>Gross tertiary education enrollment (%)</th>\n      <th>Population</th>\n      <th>Unemployment rate</th>\n      <th>Urban_population</th>\n      <th>Latitude</th>\n      <th>Longitude</th>\n    </tr>\n  </thead>\n  <tbody>\n    <tr>\n      <th>0</th>\n      <td>1</td>\n      <td>T-Series</td>\n      <td>245000000</td>\n      <td>2.280000e+11</td>\n      <td>Music</td>\n      <td>T-Series</td>\n      <td>20082</td>\n      <td>India</td>\n      <td>IN</td>\n      <td>Music</td>\n      <td>...</td>\n      <td>2.000000e+06</td>\n      <td>2006.0</td>\n      <td>Mar</td>\n      <td>13.0</td>\n      <td>28.1</td>\n      <td>1.366418e+09</td>\n      <td>5.36</td>\n      <td>471031528.0</td>\n      <td>20.593684</td>\n      <td>78.962880</td>\n    </tr>\n    <tr>\n      <th>1</th>\n      <td>2</td>\n      <td>YouTube Movies</td>\n      <td>170000000</td>\n      <td>0.000000e+00</td>\n      <td>Film &amp; Animation</td>\n      <td>youtubemovies</td>\n      <td>1</td>\n      <td>United States</td>\n      <td>US</td>\n      <td>Games</td>\n      <td>...</td>\n      <td>3.490791e+05</td>\n      <td>2006.0</td>\n      <td>Mar</td>\n      <td>5.0</td>\n      <td>88.2</td>\n      <td>3.282395e+08</td>\n      <td>14.70</td>\n      <td>270663028.0</td>\n      <td>37.090240</td>\n      <td>-95.712891</td>\n    </tr>\n    <tr>\n      <th>2</th>\n      <td>3</td>\n      <td>MrBeast</td>\n      <td>166000000</td>\n      <td>2.836884e+10</td>\n      <td>Entertainment</td>\n      <td>MrBeast</td>\n      <td>741</td>\n      <td>United States</td>\n      <td>US</td>\n      <td>Entertainment</td>\n      <td>...</td>\n      <td>8.000000e+06</td>\n      <td>2012.0</td>\n      <td>Feb</td>\n      <td>20.0</td>\n      <td>88.2</td>\n      <td>3.282395e+08</td>\n      <td>14.70</td>\n      <td>270663028.0</td>\n      <td>37.090240</td>\n      <td>-95.712891</td>\n    </tr>\n    <tr>\n      <th>3</th>\n      <td>4</td>\n      <td>Cocomelon - Nursery Rhymes</td>\n      <td>162000000</td>\n      <td>1.640000e+11</td>\n      <td>Education</td>\n      <td>Cocomelon - Nursery Rhymes</td>\n      <td>966</td>\n      <td>United States</td>\n      <td>US</td>\n      <td>Education</td>\n      <td>...</td>\n      <td>1.000000e+06</td>\n      <td>2006.0</td>\n      <td>Sep</td>\n      <td>1.0</td>\n      <td>88.2</td>\n      <td>3.282395e+08</td>\n      <td>14.70</td>\n      <td>270663028.0</td>\n      <td>37.090240</td>\n      <td>-95.712891</td>\n    </tr>\n    <tr>\n      <th>4</th>\n      <td>5</td>\n      <td>SET India</td>\n      <td>159000000</td>\n      <td>1.480000e+11</td>\n      <td>Shows</td>\n      <td>SET India</td>\n      <td>116536</td>\n      <td>India</td>\n      <td>IN</td>\n      <td>Entertainment</td>\n      <td>...</td>\n      <td>1.000000e+06</td>\n      <td>2006.0</td>\n      <td>Sep</td>\n      <td>20.0</td>\n      <td>28.1</td>\n      <td>1.366418e+09</td>\n      <td>5.36</td>\n      <td>471031528.0</td>\n      <td>20.593684</td>\n      <td>78.962880</td>\n    </tr>\n    <tr>\n      <th>...</th>\n      <td>...</td>\n      <td>...</td>\n      <td>...</td>\n      <td>...</td>\n      <td>...</td>\n      <td>...</td>\n      <td>...</td>\n      <td>...</td>\n      <td>...</td>\n      <td>...</td>\n      <td>...</td>\n      <td>...</td>\n      <td>...</td>\n      <td>...</td>\n      <td>...</td>\n      <td>...</td>\n      <td>...</td>\n      <td>...</td>\n      <td>...</td>\n      <td>...</td>\n      <td>...</td>\n    </tr>\n    <tr>\n      <th>990</th>\n      <td>991</td>\n      <td>Natan por Aï¿</td>\n      <td>12300000</td>\n      <td>9.029610e+09</td>\n      <td>Sports</td>\n      <td>Natan por Aï¿</td>\n      <td>1200</td>\n      <td>Brazil</td>\n      <td>BR</td>\n      <td>Entertainment</td>\n      <td>...</td>\n      <td>7.000000e+05</td>\n      <td>2017.0</td>\n      <td>Feb</td>\n      <td>12.0</td>\n      <td>51.3</td>\n      <td>2.125594e+08</td>\n      <td>12.08</td>\n      <td>183241641.0</td>\n      <td>-14.235004</td>\n      <td>-51.925280</td>\n    </tr>\n    <tr>\n      <th>991</th>\n      <td>992</td>\n      <td>Free Fire India Official</td>\n      <td>12300000</td>\n      <td>1.674410e+09</td>\n      <td>People &amp; Blogs</td>\n      <td>Free Fire India Official</td>\n      <td>1500</td>\n      <td>India</td>\n      <td>IN</td>\n      <td>Games</td>\n      <td>...</td>\n      <td>3.000000e+05</td>\n      <td>2018.0</td>\n      <td>Sep</td>\n      <td>14.0</td>\n      <td>28.1</td>\n      <td>1.366418e+09</td>\n      <td>5.36</td>\n      <td>471031528.0</td>\n      <td>20.593684</td>\n      <td>78.962880</td>\n    </tr>\n    <tr>\n      <th>992</th>\n      <td>993</td>\n      <td>Panda</td>\n      <td>12300000</td>\n      <td>2.214684e+09</td>\n      <td>NaN</td>\n      <td>HybridPanda</td>\n      <td>2452</td>\n      <td>United Kingdom</td>\n      <td>GB</td>\n      <td>Games</td>\n      <td>...</td>\n      <td>1.000000e+03</td>\n      <td>2006.0</td>\n      <td>Sep</td>\n      <td>11.0</td>\n      <td>60.0</td>\n      <td>6.683440e+07</td>\n      <td>3.85</td>\n      <td>55908316.0</td>\n      <td>55.378051</td>\n      <td>-3.435973</td>\n    </tr>\n    <tr>\n      <th>993</th>\n      <td>994</td>\n      <td>RobTopGames</td>\n      <td>12300000</td>\n      <td>3.741235e+08</td>\n      <td>Gaming</td>\n      <td>RobTopGames</td>\n      <td>39</td>\n      <td>Sweden</td>\n      <td>SE</td>\n      <td>Games</td>\n      <td>...</td>\n      <td>1.000000e+05</td>\n      <td>2012.0</td>\n      <td>May</td>\n      <td>9.0</td>\n      <td>67.0</td>\n      <td>1.028545e+07</td>\n      <td>6.48</td>\n      <td>9021165.0</td>\n      <td>60.128161</td>\n      <td>18.643501</td>\n    </tr>\n    <tr>\n      <th>994</th>\n      <td>995</td>\n      <td>Make Joke Of</td>\n      <td>12300000</td>\n      <td>2.129774e+09</td>\n      <td>Comedy</td>\n      <td>Make Joke Of</td>\n      <td>62</td>\n      <td>India</td>\n      <td>IN</td>\n      <td>Comedy</td>\n      <td>...</td>\n      <td>1.000000e+05</td>\n      <td>2017.0</td>\n      <td>Aug</td>\n      <td>1.0</td>\n      <td>28.1</td>\n      <td>1.366418e+09</td>\n      <td>5.36</td>\n      <td>471031528.0</td>\n      <td>20.593684</td>\n      <td>78.962880</td>\n    </tr>\n  </tbody>\n</table>\n<p>995 rows × 28 columns</p>\n</div>"
     },
     "execution_count": 34,
     "metadata": {},
     "output_type": "execute_result"
    }
   ],
   "source": [
    "# 5. Замініть комірки з пропущеними значенями на середні за стовпцем. І тип даних на float.\n",
    "\n",
    "data[[\"subscribers\",\"video views\",\"uploads\",\"video_views_rank\",\"country_rank\",\"channel_type_rank\",\"video_views_for_the_last_30_days\",\n",
    "      \"lowest_monthly_earnings\",\"highest_monthly_earnings\",\"lowest_yearly_earnings\",\"highest_yearly_earnings\",\"subscribers_for_last_30_days\",\n",
    "      \"created_year\",\"created_date\",\"Gross tertiary education enrollment (%)\",\"Population\",\"Unemployment rate\",\"Urban_population\",\n",
    "      \"Latitude\",\"Longitude\"]] = data[[\"subscribers\",\"video views\",\"uploads\",\"video_views_rank\",\"country_rank\",\"channel_type_rank\",\"video_views_for_the_last_30_days\",\n",
    "      \"lowest_monthly_earnings\",\"highest_monthly_earnings\",\"lowest_yearly_earnings\",\"highest_yearly_earnings\",\"subscribers_for_last_30_days\",\n",
    "      \"created_year\",\"created_date\",\"Gross tertiary education enrollment (%)\",\"Population\",\"Unemployment rate\",\"Urban_population\",\n",
    "      \"Latitude\",\"Longitude\"]].fillna(data[[\"subscribers\",\"video views\",\"uploads\",\"video_views_rank\",\"country_rank\",\"channel_type_rank\",\"video_views_for_the_last_30_days\",\n",
    "      \"lowest_monthly_earnings\",\"highest_monthly_earnings\",\"lowest_yearly_earnings\",\"highest_yearly_earnings\",\"subscribers_for_last_30_days\",\n",
    "      \"created_year\",\"created_date\",\"Gross tertiary education enrollment (%)\",\"Population\",\"Unemployment rate\",\"Urban_population\",\n",
    "      \"Latitude\",\"Longitude\"]].mean())\n",
    "data"
   ],
   "metadata": {
    "collapsed": false
   }
  },
  {
   "cell_type": "code",
   "execution_count": 35,
   "outputs": [
    {
     "data": {
      "text/plain": "rank                                         0\nYoutuber                                     0\nsubscribers                                  0\nvideo views                                  0\ncategory                                    46\nTitle                                        0\nuploads                                      0\nCountry                                    122\nAbbreviation                               122\nchannel_type                                30\nvideo_views_rank                             0\ncountry_rank                                 0\nchannel_type_rank                            0\nvideo_views_for_the_last_30_days             0\nlowest_monthly_earnings                      0\nhighest_monthly_earnings                     0\nlowest_yearly_earnings                       0\nhighest_yearly_earnings                      0\nsubscribers_for_last_30_days                 0\ncreated_year                                 0\ncreated_month                                5\ncreated_date                                 0\nGross tertiary education enrollment (%)      0\nPopulation                                   0\nUnemployment rate                            0\nUrban_population                             0\nLatitude                                     0\nLongitude                                    0\ndtype: int64"
     },
     "execution_count": 35,
     "metadata": {},
     "output_type": "execute_result"
    }
   ],
   "source": [
    "# 6. Ще раз перевірте кількість пропусків.\n",
    "data.isna().sum()"
   ],
   "metadata": {
    "collapsed": false
   }
  },
  {
   "cell_type": "code",
   "execution_count": 4,
   "outputs": [
    {
     "data": {
      "text/plain": "array(['India', 'United States', nan, 'Japan', 'Russia', 'South Korea',\n       'United Kingdom', 'Canada', 'Brazil', 'Argentina', 'Chile', 'Cuba',\n       'El Salvador', 'Pakistan', 'Philippines', 'Thailand', 'Colombia',\n       'Barbados', 'Mexico', 'United Arab Emirates', 'Spain',\n       'Saudi Arabia', 'Indonesia', 'Turkey', 'Venezuela', 'Kuwait',\n       'Jordan', 'Netherlands', 'Singapore', 'Australia', 'Italy',\n       'Germany', 'France', 'Sweden', 'Afghanistan', 'Ukraine', 'Latvia',\n       'Switzerland', 'Vietnam', 'Malaysia', 'China', 'Iraq', 'Egypt',\n       'Andorra', 'Ecuador', 'Morocco', 'Peru', 'Bangladesh', 'Finland',\n       'Samoa'], dtype=object)"
     },
     "execution_count": 4,
     "metadata": {},
     "output_type": "execute_result"
    }
   ],
   "source": [
    "# 7. Перевірте, скільки унікальних країн представлено у колонці \"Country\"\n",
    "data['Country'].unique()"
   ],
   "metadata": {
    "collapsed": false
   }
  },
  {
   "cell_type": "code",
   "execution_count": 51,
   "outputs": [
    {
     "data": {
      "text/plain": "<AxesSubplot: ylabel='Frequency'>"
     },
     "execution_count": 51,
     "metadata": {},
     "output_type": "execute_result"
    },
    {
     "data": {
      "text/plain": "<Figure size 640x480 with 1 Axes>",
      "image/png": "[encoded data removed]"
     },
     "metadata": {},
     "output_type": "display_data"
    }
   ],
   "source": [
    "# 8. Побудуйте діаграму розподілу переглядів (використовуйте kind='hist'):\n",
    "data['video views'].plot(kind='hist', bins=20)"
   ],
   "metadata": {
    "collapsed": false
   }
  },
  {
   "cell_type": "code",
   "execution_count": 52,
   "outputs": [
    {
     "name": "stdout",
     "output_type": "stream",
     "text": [
      "max of video views:  228000000000.0\n",
      "min of video views:  0.0\n",
      "mean of video views:  11039537052.03819\n"
     ]
    }
   ],
   "source": [
    "# 9. Визначте максимальну, мінімальну, середню кількість переглядів (використовуйте методи max, min, mean)\n",
    "max_v = data['video views'].max()\n",
    "min_v = data['video views'].min()\n",
    "mean_v = data['video views'].mean()\n",
    "print(\"max of video views: \", max_v)\n",
    "print(\"min of video views: \", min_v)\n",
    "print(\"mean of video views: \", mean_v)"
   ],
   "metadata": {
    "collapsed": false
   }
  },
  {
   "cell_type": "code",
   "execution_count": 56,
   "outputs": [
    {
     "data": {
      "text/plain": "'India'"
     },
     "execution_count": 56,
     "metadata": {},
     "output_type": "execute_result"
    }
   ],
   "source": [
    "# 10.Знайдіть країну, де найбільше відео було завантажено на YouTube\n",
    "data.loc[data['uploads'].idxmax()]['Country']"
   ],
   "metadata": {
    "collapsed": false
   }
  },
  {
   "cell_type": "code",
   "execution_count": 68,
   "outputs": [
    {
     "name": "stdout",
     "output_type": "stream",
     "text": [
      "Max uploads:  ABP NEWS\n",
      "Min uploads:  Music\n"
     ]
    }
   ],
   "source": [
    "# 11. Знайдіть відео (виведіть його назву) з найбільшою та найменшою кількістю завантажень uploads.\n",
    "print(\"Max uploads: \",data.loc[data['uploads'].idxmax()]['Title'])\n",
    "print(\"Min uploads: \",data.loc[data['uploads'].idxmin()]['Title'])\n"
   ],
   "metadata": {
    "collapsed": false
   }
  }
 ],
 "metadata": {
  "kernelspec": {
   "display_name": "Python 3",
   "language": "python",
   "name": "python3"
  },
  "language_info": {
   "codemirror_mode": {
    "name": "ipython",
    "version": 2
   },
   "file_extension": ".py",
   "mimetype": "text/x-python",
   "name": "python",
   "nbconvert_exporter": "python",
   "pygments_lexer": "ipython2",
   "version": "2.7.6"
  }
 },
 "nbformat": 4,
 "nbformat_minor": 0
}
